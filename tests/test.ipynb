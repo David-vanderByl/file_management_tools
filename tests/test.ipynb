{
 "cells": [
  {
   "cell_type": "markdown",
   "id": "1a86cd2e",
   "metadata": {},
   "source": [
    "# This is a title\n",
    "\n",
    "This is a paragraph.\n",
    "\n",
    "## This is a subheading\n",
    "\n",
    "This is another paragraph."
   ]
  },
  {
   "cell_type": "code",
   "execution_count": null,
   "id": "d177cf3a",
   "metadata": {},
   "outputs": [],
   "source": [
    "# This is some Python code\n",
    "print('Hello, world!')\n",
    "print('second line')"
   ]
  },
  {
   "cell_type": "markdown",
   "id": "0cec2841",
   "metadata": {},
   "source": [
    "This is yet another paragraph."
   ]
  },
  {
   "cell_type": "code",
   "execution_count": null,
   "id": "143e933b",
   "metadata": {},
   "outputs": [],
   "source": [
    "This is a code block without a specified language."
   ]
  },
  {
   "cell_type": "markdown",
   "id": "9f1d7e88",
   "metadata": {},
   "source": [
    "This is a final paragraph.\n",
    "\n",
    "\n",
    "\n",
    "Here's a unit test for the script:\n",
    "\n",
    "```python\n",
    "import unittest\n",
    "import json\n",
    "import os\n",
    "\n",
    "# You should have the function `md_to_ipynb` defined here or imported from another file.\n",
    "\n",
    "class TestMdToIpynb(unittest.TestCase):"
   ]
  },
  {
   "cell_type": "code",
   "execution_count": null,
   "id": "422f41eb",
   "metadata": {},
   "outputs": [],
   "source": [
    "def test_md_to_ipynb(self):\n",
    "    # Convert the test.md file to a notebook\n",
    "    md_to_ipynb('test.md')\n",
    "    \n",
    "    # Check that the notebook file was created\n",
    "    self.assertTrue(os.path.isfile('test.ipynb'))\n",
    "\n",
    "    # Load the notebook\n",
    "    with open('test.ipynb', 'r') as f:\n",
    "        notebook = json.load(f)\n",
    "    \n",
    "    # Check the notebook structure\n",
    "    self.assertIn('cells', notebook)\n",
    "    self.assertIsInstance(notebook['cells'], list)\n",
    "    \n",
    "    # Check the cells\n",
    "    self.assertEqual(len(notebook['cells']), 7)\n",
    "    self.assertEqual(notebook['cells'][0]['cell_type'], 'markdown')\n",
    "    self.assertEqual(notebook['cells'][0]['source'], '# This is a title\\n')\n",
    "    self.assertEqual(notebook['cells'][2]['cell_type'], 'markdown')\n",
    "    self.assertEqual(notebook['cells'][2]['source'], '## This is a subheading\\n')\n",
    "    self.assertEqual(notebook['cells'][4]['cell_type'], 'code')\n",
    "    self.assertEqual(notebook['cells'][4]['source'], '# This is some Python code\\nprint(\\'Hello, world!\\')\\n')\n",
    "    self.assertEqual(notebook['cells'][6]['cell_type'], 'code')\n",
    "    self.assertEqual(notebook['cells'][6]['source'], 'This is a code block without a specified language.\\n')"
   ]
  },
  {
   "cell_type": "markdown",
   "id": "35b5710a",
   "metadata": {},
   "source": [
    "if __name__ == '__main__':\n",
    "    unittest.main()\n",
    "```"
   ]
  }
 ],
 "metadata": {},
 "nbformat": 4,
 "nbformat_minor": 5
}
